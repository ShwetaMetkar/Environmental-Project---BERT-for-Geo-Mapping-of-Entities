{
 "cells": [
  {
   "cell_type": "code",
   "execution_count": 7,
   "metadata": {},
   "outputs": [
    {
     "name": "stderr",
     "output_type": "stream",
     "text": [
      "[nltk_data] Downloading package punkt to\n",
      "[nltk_data]     C:\\Users\\shwet\\AppData\\Roaming\\nltk_data...\n",
      "[nltk_data]   Package punkt is already up-to-date!\n"
     ]
    }
   ],
   "source": [
    "import os\n",
    "import nltk\n",
    "nltk.download('punkt')\n",
    "from nltk.tokenize import word_tokenize\n",
    "from collections import defaultdict"
   ]
  },
  {
   "cell_type": "code",
   "execution_count": 8,
   "metadata": {},
   "outputs": [],
   "source": [
    "def writeCommonWord(common_oneword_vocab, common_multipleword_vocab):\n",
    "    f1 = open(os.path.join(\"C:/Users/shwet/ProjectFinal/splittingWikifiers\",\"oneword_withoutWikifiers.txt\"), encoding=\"utf8\").readlines()\n",
    "    f2 = open(os.path.join(\"C:/Users/shwet/ProjectFinal/splittingWikifiers\",\"multiplewords_withoutWikifiers.txt\"), encoding=\"utf8\").readlines()\n",
    "    f3 = open(os.path.join(\"C:/Users/shwet/ProjectFinal/BertVocabulary\", \"bert-base-uncased-vocab.txt\"), encoding=\"utf8\").readlines()\n",
    "    common_oneword_file = open(common_oneword_vocab, 'w', encoding=\"utf-8\")\n",
    "    common_multipleword_file = open(common_multipleword_vocab, 'w', encoding=\"utf-8\")\n",
    "    if len(f1) != 0 | len(f3) != 0:\n",
    "        uniq1 = set(words for line in f1 for words in line.strip(\"\\n\\t\").split(\" \"))\n",
    "        uniq2 = set(wordss for lines in f3 for wordss in lines.strip(\"\\n\\t\").split(\" \"))\n",
    "        for words in uniq1:\n",
    "            for wordds in uniq2:\n",
    "                if words == wordds:\n",
    "                    common_oneword_file.write(str(\"%s\\n\" %words))\n",
    "    \n",
    "    if len(f2) != 0 | len(f3) != 0:\n",
    "        uniq1 = set(words for line in f2 for words in line.strip(\"\\n\\t\").split(\" \"))\n",
    "        uniq2 = set(wordss for lines in f3 for wordss in lines.strip(\"\\n\\t\").split(\" \"))\n",
    "        for words in uniq1:\n",
    "            for wordds in uniq2:\n",
    "                if words == wordds:\n",
    "                    common_multipleword_file.write(str(\"%s\\n\" %words))    "
   ]
  },
  {
   "cell_type": "code",
   "execution_count": 9,
   "metadata": {},
   "outputs": [],
   "source": [
    "def writeUncommonWord(uncommon_oneword_vocab, uncommon_multipleword_vocab):\n",
    "    f1 = open(os.path.join(\"C:/Users/shwet/ProjectFinal/splittingWikifiers\",\"oneword_withoutWikifiers.txt\"), encoding=\"utf8\").readlines()\n",
    "    f2 = open(os.path.join(\"C:/Users/shwet/ProjectFinal/splittingWikifiers\",\"multiplewords_withoutWikifiers.txt\"), encoding=\"utf8\").readlines()\n",
    "    f3 = open(os.path.join(\"C:/Users/shwet/ProjectFinal/BertVocabulary\", \"bert-base-uncased-vocab.txt\"), encoding=\"utf8\").readlines()\n",
    "    uncommon_oneword_file = open(uncommon_oneword_vocab, 'w', encoding=\"utf-8\")\n",
    "    uncommon_multipleword_file = open(uncommon_multipleword_vocab, 'w', encoding=\"utf-8\")\n",
    "    lenOne = len(f1)\n",
    "    lenMulti = len(f2)\n",
    "    lenBert = len(f3)\n",
    "    s=dict()\n",
    "    for i in range(lenBert):\n",
    "        s[f3[i]] = 1\n",
    "    for i in range(lenOne):\n",
    "        if(f1[i] not in s.keys()):\n",
    "            uncommon_oneword_file.write(str(\"%s\" %f1[i]))\n",
    "            \n",
    "    for i in range(lenBert):\n",
    "        s[f3[i]] = 1\n",
    "    for i in range(lenOne):\n",
    "        if(f2[i] not in s.keys()):\n",
    "            uncommon_multipleword_file.write(str(\"%s\" %f2[i]))        "
   ]
  },
  {
   "cell_type": "code",
   "execution_count": 10,
   "metadata": {},
   "outputs": [],
   "source": [
    "# PATHS\n",
    "common_oneword_vocab = \"common_oneword.txt\"\n",
    "common_multipleword_vocab = \"common_multiplewords.txt\"\n",
    "uncommon_oneword_vocab = \"uncommon_oneword.txt\"\n",
    "uncommon_multipleword_vocab = \"uncommon_multiplewords.txt\"\n",
    "directory_input = \"C:/Users/shwet/ProjectFinal\""
   ]
  },
  {
   "cell_type": "code",
   "execution_count": 11,
   "metadata": {},
   "outputs": [],
   "source": [
    "writeCommonWord(common_oneword_vocab, common_multipleword_vocab)"
   ]
  },
  {
   "cell_type": "code",
   "execution_count": 12,
   "metadata": {},
   "outputs": [],
   "source": [
    "writeUncommonWord(uncommon_oneword_vocab, uncommon_multipleword_vocab)"
   ]
  },
  {
   "cell_type": "code",
   "execution_count": null,
   "metadata": {},
   "outputs": [],
   "source": []
  },
  {
   "cell_type": "code",
   "execution_count": 19,
   "metadata": {},
   "outputs": [],
   "source": []
  },
  {
   "cell_type": "code",
   "execution_count": 20,
   "metadata": {},
   "outputs": [],
   "source": []
  },
  {
   "cell_type": "code",
   "execution_count": null,
   "metadata": {},
   "outputs": [],
   "source": []
  },
  {
   "cell_type": "code",
   "execution_count": null,
   "metadata": {},
   "outputs": [],
   "source": []
  }
 ],
 "metadata": {
  "kernelspec": {
   "display_name": "Python 3",
   "language": "python",
   "name": "python3"
  },
  "language_info": {
   "codemirror_mode": {
    "name": "ipython",
    "version": 3
   },
   "file_extension": ".py",
   "mimetype": "text/x-python",
   "name": "python",
   "nbconvert_exporter": "python",
   "pygments_lexer": "ipython3",
   "version": "3.7.6"
  }
 },
 "nbformat": 4,
 "nbformat_minor": 4
}
