{
 "cells": [
  {
   "cell_type": "code",
   "execution_count": 9,
   "metadata": {},
   "outputs": [
    {
     "name": "stderr",
     "output_type": "stream",
     "text": [
      "[nltk_data] Downloading package punkt to\n",
      "[nltk_data]     C:\\Users\\shwet\\AppData\\Roaming\\nltk_data...\n",
      "[nltk_data]   Package punkt is already up-to-date!\n"
     ]
    }
   ],
   "source": [
    "import os\n",
    "import nltk\n",
    "nltk.download('punkt')\n",
    "from nltk.tokenize import word_tokenize\n",
    "from collections import defaultdict\n",
    "import operator"
   ]
  },
  {
   "cell_type": "code",
   "execution_count": 10,
   "metadata": {},
   "outputs": [],
   "source": [
    "def tokenize(directory_input, input_file, tokens_occ, tokens_per_file):\n",
    "   with open(os.path.join(directory_input, input_file), \"rt\", encoding=\"utf-8\") as f:\n",
    "       tokens = word_tokenize(f.read())\n",
    "       # Count occurences per token\n",
    "       for token in tokens:\n",
    "            tokens_occ[token] += 1\n",
    "   return tokens_occ, tokens_per_file"
   ]
  },
  {
   "cell_type": "code",
   "execution_count": 11,
   "metadata": {},
   "outputs": [],
   "source": [
    "def writeMultipleWordVocabularyFiles(multipleword_vocab_filename, sorted_d):\n",
    "    # Write unique wiki words in a file\n",
    "    multipleword_vocab_file = open(multipleword_vocab_filename, 'w', encoding=\"utf-8\")\n",
    "    for word, occ in sorted_d.items():\n",
    "        multipleword_vocab_file.write(str(word) + \" \" + str(occ) + \"\\n\")"
   ]
  },
  {
   "cell_type": "code",
   "execution_count": 12,
   "metadata": {},
   "outputs": [],
   "source": [
    "def showResults(sorted_d):\n",
    "    # Show the most occuring word and number of wiki words   \n",
    "    print(list(sorted_d.keys())[0], list(sorted_d.values())[0])\n",
    "    print(\"\\nNumber of wiki words:\", len(tokens_occ))  "
   ]
  },
  {
   "cell_type": "code",
   "execution_count": 13,
   "metadata": {},
   "outputs": [],
   "source": [
    "# PATHS\n",
    "multipleword_vocab_filename = \"multiplewords_count.txt\"\n",
    "directory_input = \"C:/Users/shwet/ProjectFinal\""
   ]
  },
  {
   "cell_type": "code",
   "execution_count": 14,
   "metadata": {},
   "outputs": [],
   "source": [
    "tokens_occ = defaultdict(lambda: 0)\n",
    "tokens_per_file = []"
   ]
  },
  {
   "cell_type": "code",
   "execution_count": 15,
   "metadata": {},
   "outputs": [],
   "source": [
    "tokens_occ, tokens_per_file = tokenize(\"C:/Users/shwet/ProjectFinal/splittingWikifiers\", \"multiplewords_withoutWikifiers.txt\", tokens_occ, tokens_per_file)\n",
    "sorted_d = dict(sorted(tokens_occ.items(), key=operator.itemgetter(1),reverse=True))\n",
    "writeMultipleWordVocabularyFiles(multipleword_vocab_filename, sorted_d)"
   ]
  },
  {
   "cell_type": "code",
   "execution_count": 16,
   "metadata": {},
   "outputs": [
    {
     "name": "stdout",
     "output_type": "stream",
     "text": [
      "of 164\n",
      "\n",
      "Number of wiki words: 2757\n"
     ]
    }
   ],
   "source": [
    "showResults(sorted_d)"
   ]
  },
  {
   "cell_type": "code",
   "execution_count": null,
   "metadata": {},
   "outputs": [],
   "source": []
  },
  {
   "cell_type": "code",
   "execution_count": null,
   "metadata": {},
   "outputs": [],
   "source": []
  },
  {
   "cell_type": "code",
   "execution_count": null,
   "metadata": {},
   "outputs": [],
   "source": []
  },
  {
   "cell_type": "code",
   "execution_count": null,
   "metadata": {},
   "outputs": [],
   "source": []
  }
 ],
 "metadata": {
  "kernelspec": {
   "display_name": "Python 3",
   "language": "python",
   "name": "python3"
  },
  "language_info": {
   "codemirror_mode": {
    "name": "ipython",
    "version": 3
   },
   "file_extension": ".py",
   "mimetype": "text/x-python",
   "name": "python",
   "nbconvert_exporter": "python",
   "pygments_lexer": "ipython3",
   "version": "3.7.6"
  }
 },
 "nbformat": 4,
 "nbformat_minor": 4
}
